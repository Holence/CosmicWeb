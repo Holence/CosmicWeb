{
 "cells": [
  {
   "cell_type": "code",
   "execution_count": null,
   "metadata": {},
   "outputs": [],
   "source": [
    "import numpy as np\n",
    "import pandas as pd\n",
    "from astropy.coordinates import *\n",
    "import astropy.units as u\n",
    "\n",
    "import sys,os\n",
    "sys.path.append(os.path.join(os.getcwd(),\"..\"))\n",
    "#jupyter的运行路径是文件所在路径，这里要添加上一级的路径到系统变量才能import utils\n",
    "from utils import ball\n",
    "from tqdm import tqdm\n",
    "from astropy.io import fits"
   ]
  },
  {
   "cell_type": "code",
   "execution_count": null,
   "metadata": {},
   "outputs": [],
   "source": [
    "file_path=\"J_AJ_145_101_table1.dat.fits\"\n",
    "with fits.open(file_path) as hdul:\n",
    "    hdul.info()\n",
    "    \n",
    "    column=hdul[1].data.columns\n",
    "    table=hdul[1].data"
   ]
  },
  {
   "cell_type": "code",
   "execution_count": null,
   "metadata": {},
   "outputs": [],
   "source": [
    "print(table[:5])"
   ]
  },
  {
   "cell_type": "code",
   "execution_count": null,
   "metadata": {},
   "outputs": [],
   "source": [
    "def coordinate(Ra,Dec,d):\n",
    "    c=SkyCoord(frame=\"icrs\",ra=Ra,dec=Dec,distance=d*ball.scale_factor(10)*u.mpc)\n",
    "    return [c.supergalactic.cartesian.x.value,c.supergalactic.cartesian.y.value,c.supergalactic.cartesian.z.value]\n",
    "\n",
    "coordinate_matrix=[]\n",
    "for row in table:\n",
    "    Ra=str(row[\"Rah\"])+\"h\"+str(row[\"Ram\"])+\"m\"+str(row[\"Ras\"])+\"s\"\n",
    "    Dec=str(row[\"DE-\"])+str(row[\"Ded\"])+\"d\"+str(row[\"DEm\"])+\"m\"+str(row[\"DEs\"])+\"s\"\n",
    "    d=row[\"Dist\"]\n",
    "    coordinate_matrix.append( coordinate(Ra,Dec,d) )\n",
    "\n",
    "coordinate_matrix=np.array(coordinate_matrix)\n",
    "print(coordinate_matrix[:5])"
   ]
  },
  {
   "cell_type": "code",
   "execution_count": null,
   "metadata": {},
   "outputs": [],
   "source": [
    "name_list=[]\n",
    "for row in table:\n",
    "    name_list.append( row[\"Name\"] )\n",
    "\n",
    "print(name_list[:5])"
   ]
  },
  {
   "cell_type": "code",
   "execution_count": null,
   "metadata": {},
   "outputs": [],
   "source": [
    "for i in range(5):\n",
    "    print(name_list[i],coordinate_matrix[i])"
   ]
  },
  {
   "cell_type": "code",
   "execution_count": null,
   "metadata": {},
   "outputs": [],
   "source": [
    "ball.generateBallObj(coordinate_matrix,os.path.join(\"./\", os.path.basename(file_path).split(\".\")[0]))"
   ]
  },
  {
   "cell_type": "code",
   "execution_count": null,
   "metadata": {},
   "outputs": [],
   "source": [
    "# looking for Andromeda\n",
    "for i in range(len(name_list)):\n",
    "    if \"And I\" in name_list[i]:\n",
    "        print(name_list[i])\n",
    "        print(coordinate_matrix[i])\n",
    "\n",
    "# looking for WLM\n",
    "for i in range(len(name_list)):\n",
    "    if \"WLM\" in name_list[i]:\n",
    "        print(name_list[i])\n",
    "        print(coordinate_matrix[i])"
   ]
  }
 ],
 "metadata": {
  "kernelspec": {
   "display_name": "Python 3.9.6 64-bit",
   "language": "python",
   "name": "python3"
  },
  "language_info": {
   "codemirror_mode": {
    "name": "ipython",
    "version": 3
   },
   "file_extension": ".py",
   "mimetype": "text/x-python",
   "name": "python",
   "nbconvert_exporter": "python",
   "pygments_lexer": "ipython3",
   "version": "3.9.6"
  },
  "orig_nbformat": 4,
  "vscode": {
   "interpreter": {
    "hash": "209565b58a505ff4d90712c540e0a7e0c60f2874fda309f796ea191eb82c03e7"
   }
  }
 },
 "nbformat": 4,
 "nbformat_minor": 2
}
