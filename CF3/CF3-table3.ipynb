{
 "cells": [
  {
   "cell_type": "code",
   "execution_count": null,
   "metadata": {},
   "outputs": [],
   "source": [
    "import numpy as np\n",
    "import pandas as pd\n",
    "from astropy.coordinates import *\n",
    "import astropy.units as u\n",
    "\n",
    "import sys,os\n",
    "sys.path.append(os.path.join(os.getcwd(),\"..\"))\n",
    "#jupyter的运行路径是文件所在路径，这里要添加上一级的路径到系统变量才能import utils\n",
    "from utils import ball\n",
    "from tqdm import tqdm\n",
    "from astropy.io import fits"
   ]
  },
  {
   "cell_type": "code",
   "execution_count": null,
   "metadata": {},
   "outputs": [],
   "source": [
    "file_path=\"J_AJ_152_50_table3.dat.gz.fits\"\n",
    "with fits.open(file_path) as hdul:\n",
    "    hdul.info()\n",
    "    \n",
    "    column=hdul[1].data.columns\n",
    "    table=hdul[1].data"
   ]
  },
  {
   "cell_type": "code",
   "execution_count": null,
   "metadata": {},
   "outputs": [],
   "source": [
    "def coordinate(row):\n",
    "    # z=d*np.sin(np.deg2rad(la))\n",
    "    # x=d*np.cos(np.deg2rad(la))*np.cos(np.deg2rad(lo))\n",
    "    # y=d*np.cos(np.deg2rad(la))*np.sin(np.deg2rad(lo))\n",
    "    # return d,lo,la,np.array([x,y,z]).reshape(1,3)\n",
    "    c=SkyCoord(\n",
    "        sgl = row[1]*u.degree,\n",
    "        sgb = row[2]*u.degree,\n",
    "        distance = row[0]*ball.scale_factor(5)*u.mpc,\n",
    "        frame = \"supergalactic\"\n",
    "    )\n",
    "    return [c.cartesian.x.value,c.cartesian.y.value,c.cartesian.z.value]\n",
    "\n",
    "coordinate_matrix=np.stack([table[\"Dist\"],table[\"SGLON\"],table[\"SGLAT\"]], axis=1)\n",
    "coordinate_matrix=np.apply_along_axis(coordinate, 1, coordinate_matrix)\n",
    "coordinate_matrix=np.array(coordinate_matrix)\n",
    "print(coordinate_matrix[:5])"
   ]
  },
  {
   "cell_type": "code",
   "execution_count": null,
   "metadata": {},
   "outputs": [],
   "source": [
    "def name(PGC,Abell,GName,Name):\n",
    "    s=\"PGC\"+str(PGC)+\" \"\n",
    "    if Abell:\n",
    "        s+=str(Abell)+\" \"\n",
    "    if GName:\n",
    "        s+=str(GName)+\" \"\n",
    "    if Name:\n",
    "        s+=str(Name)\n",
    "    return s.strip()\n",
    "\n",
    "name_list=[]\n",
    "for row in tqdm(table):\n",
    "    name_list.append( name(row[\"PGC\"],row[\"Abell\"],row[\"GName\"],row[\"Name\"]))\n",
    "\n",
    "print(name_list[:5])"
   ]
  },
  {
   "cell_type": "code",
   "execution_count": null,
   "metadata": {},
   "outputs": [],
   "source": [
    "for i in range(5):\n",
    "    print(name_list[i],coordinate_matrix[i])"
   ]
  },
  {
   "cell_type": "code",
   "execution_count": null,
   "metadata": {},
   "outputs": [],
   "source": [
    "ball.generateBallObj(coordinate_matrix,os.path.join(\"./\", os.path.basename(file_path).split(\".\")[0]))"
   ]
  },
  {
   "cell_type": "code",
   "execution_count": null,
   "metadata": {},
   "outputs": [],
   "source": [
    "# looking for Andromeda\n",
    "for i in range(len(name_list)):\n",
    "    if \"PGC2557\" in name_list[i]:\n",
    "        print(name_list[i])\n",
    "        print(coordinate_matrix[i])\n"
   ]
  }
 ],
 "metadata": {
  "kernelspec": {
   "display_name": "Python 3.9.6 64-bit",
   "language": "python",
   "name": "python3"
  },
  "language_info": {
   "codemirror_mode": {
    "name": "ipython",
    "version": 3
   },
   "file_extension": ".py",
   "mimetype": "text/x-python",
   "name": "python",
   "nbconvert_exporter": "python",
   "pygments_lexer": "ipython3",
   "version": "3.9.6"
  },
  "orig_nbformat": 4,
  "vscode": {
   "interpreter": {
    "hash": "209565b58a505ff4d90712c540e0a7e0c60f2874fda309f796ea191eb82c03e7"
   }
  }
 },
 "nbformat": 4,
 "nbformat_minor": 2
}
