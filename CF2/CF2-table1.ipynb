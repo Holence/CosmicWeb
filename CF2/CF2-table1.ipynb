{
 "cells": [
  {
   "cell_type": "code",
   "execution_count": 1,
   "metadata": {},
   "outputs": [],
   "source": [
    "import numpy as np\n",
    "import pandas as pd\n",
    "from astropy.coordinates import *\n",
    "import astropy.units as u\n",
    "\n",
    "import sys,os\n",
    "sys.path.append(os.path.join(os.getcwd(),\"..\"))\n",
    "#jupyter的运行路径是文件所在路径，这里要添加上一级的路径到系统变量才能import utils\n",
    "from utils import ball\n",
    "from tqdm import tqdm\n",
    "from astropy.io import fits"
   ]
  },
  {
   "cell_type": "code",
   "execution_count": 2,
   "metadata": {},
   "outputs": [
    {
     "name": "stdout",
     "output_type": "stream",
     "text": [
      "Filename: J_AJ_146_86_table1.dat.gz.fits\n",
      "No.    Name      Ver    Type      Cards   Dimensions   Format\n",
      "  0  PRIMARY       1 PrimaryHDU      70   ()      \n",
      "  1  table1.dat    1 TableHDU       326   8315R x 48C   [I7, F6.2, F5.2, F4.2, A8, I2, I2, F4.1, A1, I2, I2, F4.1, F8.4, F8.4, F8.4, F8.4, I2, F4.2, F5.2, F5.2, I5, I5, I5, I5, I5, A10, I4, I4, I3, F6.2, F5.2, F5.3, I3, F8.4, F8.4, F8.4, F8.4, I2, F5.2, F5.2, I5, I5, I5, I5, I5, I4, I7, A15]   \n"
     ]
    },
    {
     "name": "stderr",
     "output_type": "stream",
     "text": [
      "WARNING: VerifyWarning: It is strongly recommended that column names contain only upper and lower-case ASCII letters, digits, or underscores for maximum compatibility with other software (got '<Dist>'). [astropy.io.fits.column]\n",
      "WARNING: VerifyWarning: It is strongly recommended that column names contain only upper and lower-case ASCII letters, digits, or underscores for maximum compatibility with other software (got '<DM>'). [astropy.io.fits.column]\n",
      "WARNING: VerifyWarning: It is strongly recommended that column names contain only upper and lower-case ASCII letters, digits, or underscores for maximum compatibility with other software (got '<Err>'). [astropy.io.fits.column]\n",
      "WARNING: VerifyWarning: It is strongly recommended that column names contain only upper and lower-case ASCII letters, digits, or underscores for maximum compatibility with other software (got '<Bmag>'). [astropy.io.fits.column]\n",
      "WARNING: VerifyWarning: It is strongly recommended that column names contain only upper and lower-case ASCII letters, digits, or underscores for maximum compatibility with other software (got '<Kmag>'). [astropy.io.fits.column]\n",
      "WARNING: VerifyWarning: It is strongly recommended that column names contain only upper and lower-case ASCII letters, digits, or underscores for maximum compatibility with other software (got '<HV>'). [astropy.io.fits.column]\n",
      "WARNING: VerifyWarning: It is strongly recommended that column names contain only upper and lower-case ASCII letters, digits, or underscores for maximum compatibility with other software (got '<GV>'). [astropy.io.fits.column]\n",
      "WARNING: VerifyWarning: It is strongly recommended that column names contain only upper and lower-case ASCII letters, digits, or underscores for maximum compatibility with other software (got '<Vls>'). [astropy.io.fits.column]\n",
      "WARNING: VerifyWarning: It is strongly recommended that column names contain only upper and lower-case ASCII letters, digits, or underscores for maximum compatibility with other software (got '<Vcmb>'). [astropy.io.fits.column]\n",
      "WARNING: VerifyWarning: It is strongly recommended that column names contain only upper and lower-case ASCII letters, digits, or underscores for maximum compatibility with other software (got '<Vcmba>'). [astropy.io.fits.column]\n"
     ]
    }
   ],
   "source": [
    "file_path=\"J_AJ_146_86_table1.dat.gz.fits\"\n",
    "with fits.open(file_path) as hdul:\n",
    "    hdul.info()\n",
    "    \n",
    "    column=hdul[1].data.columns\n",
    "    table=hdul[1].data"
   ]
  },
  {
   "cell_type": "code",
   "execution_count": 3,
   "metadata": {},
   "outputs": [
    {
     "name": "stdout",
     "output_type": "stream",
     "text": [
      "[[ 12926.86806207 -12457.76252495   5989.96438116]\n",
      " [ 21814.73594583 -14112.69360349   9341.86369409]\n",
      " [ 28684.45797551 -30493.86318207  13414.12642431]\n",
      " [ 27285.54098964 -21185.58968687  11983.48393398]\n",
      " [ 13120.27252995 -26615.46814786   7285.41409186]]\n"
     ]
    }
   ],
   "source": [
    "def coordinate(row):\n",
    "    # z=d*np.sin(np.deg2rad(la))\n",
    "    # x=d*np.cos(np.deg2rad(la))*np.cos(np.deg2rad(lo))\n",
    "    # y=d*np.cos(np.deg2rad(la))*np.sin(np.deg2rad(lo))\n",
    "    # return d,lo,la,np.array([x,y,z]).reshape(1,3)\n",
    "    c=SkyCoord(\n",
    "        sgl = row[1]*u.degree,\n",
    "        sgb = row[2]*u.degree,\n",
    "        distance = row[0]*ball.scale_factor(5)*u.mpc,\n",
    "        frame = \"supergalactic\"\n",
    "    )\n",
    "    return [c.cartesian.x.value,c.cartesian.y.value,c.cartesian.z.value]\n",
    "\n",
    "coordinate_matrix=np.stack([table[\"Dist\"],table[\"SGLON\"],table[\"SGLAT\"]], axis=1)\n",
    "coordinate_matrix=np.apply_along_axis(coordinate, 1, coordinate_matrix)\n",
    "coordinate_matrix=np.array(coordinate_matrix)\n",
    "print(coordinate_matrix[:5])"
   ]
  },
  {
   "cell_type": "code",
   "execution_count": 4,
   "metadata": {},
   "outputs": [
    {
     "name": "stderr",
     "output_type": "stream",
     "text": [
      "100%|██████████| 8315/8315 [00:00<00:00, 24894.15it/s]"
     ]
    },
    {
     "name": "stdout",
     "output_type": "stream",
     "text": [
      "['PGC4 AGC331060', 'PGC55 UGC12898', 'PGC70 UGC12900', 'PGC76 UGC12901', 'PGC124 UGC12913']\n"
     ]
    },
    {
     "name": "stderr",
     "output_type": "stream",
     "text": [
      "\n"
     ]
    }
   ],
   "source": [
    "def name(PGC,Name,Group):\n",
    "    s=\"PGC\"+str(PGC)+\" \"\n",
    "    if Name:\n",
    "        s+=str(Name)+\" \"\n",
    "    if Group:\n",
    "        s+=str(Group)\n",
    "    return s.strip()\n",
    "\n",
    "name_list=[]\n",
    "for row in tqdm(table):\n",
    "    name_list.append( name(row[\"PGC\"],row[\"Name\"],row[\"Group\"]))\n",
    "\n",
    "print(name_list[:5])"
   ]
  },
  {
   "cell_type": "code",
   "execution_count": null,
   "metadata": {},
   "outputs": [],
   "source": [
    "for i in range(5):\n",
    "    print(name_list[i],coordinate_matrix[i])"
   ]
  },
  {
   "cell_type": "code",
   "execution_count": null,
   "metadata": {},
   "outputs": [],
   "source": [
    "ball.generateBallObj(coordinate_matrix,os.path.join(\"./\", os.path.basename(file_path).split(\".\")[0]))"
   ]
  },
  {
   "cell_type": "code",
   "execution_count": 5,
   "metadata": {},
   "outputs": [
    {
     "name": "stdout",
     "output_type": "stream",
     "text": [
      "PGC2557 NGC0224 222\n",
      "[ 257.29709324 -113.51855479   62.61472581]\n",
      "PGC25570 NGC2763 522\n",
      "[-2836.37657702  4790.03854894 -9012.11513007]\n"
     ]
    }
   ],
   "source": [
    "# looking for Andromeda\n",
    "for i in range(len(name_list)):\n",
    "    if \"PGC2557\" in name_list[i]:\n",
    "        print(name_list[i])\n",
    "        print(coordinate_matrix[i])\n"
   ]
  }
 ],
 "metadata": {
  "kernelspec": {
   "display_name": "Python 3.9.6 64-bit",
   "language": "python",
   "name": "python3"
  },
  "language_info": {
   "codemirror_mode": {
    "name": "ipython",
    "version": 3
   },
   "file_extension": ".py",
   "mimetype": "text/x-python",
   "name": "python",
   "nbconvert_exporter": "python",
   "pygments_lexer": "ipython3",
   "version": "3.9.6"
  },
  "orig_nbformat": 4,
  "vscode": {
   "interpreter": {
    "hash": "209565b58a505ff4d90712c540e0a7e0c60f2874fda309f796ea191eb82c03e7"
   }
  }
 },
 "nbformat": 4,
 "nbformat_minor": 2
}
